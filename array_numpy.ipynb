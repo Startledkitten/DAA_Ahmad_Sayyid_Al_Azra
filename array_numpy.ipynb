{
  "nbformat": 4,
  "nbformat_minor": 0,
  "metadata": {
    "colab": {
      "provenance": [],
      "authorship_tag": "ABX9TyMJ+dDnlL87WRpYkk4ELiIC",
      "include_colab_link": true
    },
    "kernelspec": {
      "name": "python3",
      "display_name": "Python 3"
    },
    "language_info": {
      "name": "python"
    }
  },
  "cells": [
    {
      "cell_type": "markdown",
      "metadata": {
        "id": "view-in-github",
        "colab_type": "text"
      },
      "source": [
        "<a href=\"https://colab.research.google.com/github/Startledkitten/DAA_Kelompok5/blob/main/array_numpy.ipynb\" target=\"_parent\"><img src=\"https://colab.research.google.com/assets/colab-badge.svg\" alt=\"Open In Colab\"/></a>"
      ]
    },
    {
      "cell_type": "code",
      "execution_count": 18,
      "metadata": {
        "colab": {
          "base_uri": "https://localhost:8080/"
        },
        "id": "5NFYvEnfxKwh",
        "outputId": "dac1585a-792d-482d-fd66-f5500083cb28"
      },
      "outputs": [
        {
          "output_type": "stream",
          "name": "stdout",
          "text": [
            "90\n",
            "2.0.2\n"
          ]
        }
      ],
      "source": [
        "import numpy as np\n",
        "\n",
        "# membuat array\n",
        "nilai_siswa = np.array([85, 55, 40, 90])\n",
        "\n",
        "# mengakses data pada array\n",
        "print(nilai_siswa[3])\n",
        "\n",
        "print(np.__version__)"
      ]
    },
    {
      "cell_type": "code",
      "source": [
        "#Latihan Modul Pertemuan2\n",
        "\n",
        "#Latihan1\n",
        "print(\"Hello, World!\")\n",
        "print(\"Nama saya Ahmad Sayyid Al Azra\")\n",
        "print(\"NIM saya 2024071011\")\n",
        "\n",
        "#Latihan2\n",
        "if 5>2:\n",
        "  print(\"Five is greater than two!\")\n",
        "\n",
        "#Latihan3\n",
        "x = 5\n",
        "y = \"John\"\n",
        "print(x)\n",
        "print(y)\n",
        "\n",
        "#Latihsn4\n",
        "x = 4\n",
        "x = \"Sally\"\n",
        "print(x)"
      ],
      "metadata": {
        "colab": {
          "base_uri": "https://localhost:8080/"
        },
        "id": "2wxoCuPjxhNu",
        "outputId": "7fc2b8ea-4af5-48df-e30c-ab119c00a5f7"
      },
      "execution_count": 5,
      "outputs": [
        {
          "output_type": "stream",
          "name": "stdout",
          "text": [
            "Hello, World!\n",
            "Nama saya Ahmad Sayyid Al Azra\n",
            "NIM saya 2024071011\n",
            "Five is greater than two!\n",
            "5\n",
            "John\n",
            "Sally\n"
          ]
        }
      ]
    },
    {
      "cell_type": "code",
      "source": [
        "def add(list_a, list_b):\n",
        "    result = []\n",
        "    for first, second in zip(list_a, list_b):\n",
        "        result.append(first + second)\n",
        "    x = 0\n",
        "    for i in result:\n",
        "        x += i\n",
        "    return x\n",
        "\n",
        "a = [1, 2, 3]\n",
        "b = [4, 5, 6]\n",
        "print(add(a, b))"
      ],
      "metadata": {
        "colab": {
          "base_uri": "https://localhost:8080/"
        },
        "id": "JkcQnkpxxzRi",
        "outputId": "4f500757-0218-41d3-8cf3-321b76ddfbd6"
      },
      "execution_count": 17,
      "outputs": [
        {
          "output_type": "stream",
          "name": "stdout",
          "text": [
            "21\n"
          ]
        }
      ]
    },
    {
      "cell_type": "code",
      "source": [
        "#Latihan Notasi Big 0\n",
        "\n",
        "def getFirst(myList): # first item\n",
        "    return myList[0]\n",
        "\n",
        "def getSecond(myList):\n",
        "    return myList[1]   # second item\n",
        "\n",
        "def getLast(myList):\n",
        "    return myList[-1]  # last item\n",
        "\n",
        "\n",
        "getFirst([1,2,3])\n",
        "getSecond([1,2,3])\n",
        "getLast([1,2,3])\n",
        "\n",
        "print(getFirst([1,2,3]))\n",
        "print(getSecond([1,2,3]))\n",
        "print(getLast([1,2,3]))\n"
      ],
      "metadata": {
        "colab": {
          "base_uri": "https://localhost:8080/"
        },
        "id": "j5qotCGfzzXQ",
        "outputId": "c95c7e27-a0e6-4a06-e613-6a4e3c683095"
      },
      "execution_count": 25,
      "outputs": [
        {
          "output_type": "stream",
          "name": "stdout",
          "text": [
            "1\n",
            "2\n",
            "3\n"
          ]
        }
      ]
    },
    {
      "cell_type": "code",
      "source": [
        "def getSum(myList):\n",
        "    sum = 0\n",
        "    for item in myList:\n",
        "        sum = sum+item\n",
        "    return sum\n",
        "\n",
        "getSum([1,2,3])\n",
        "getSum([1,2,3,4])\n",
        "\n",
        "print(getSum([1,2,3]))\n",
        "print(getSum([1,2,3,4]))"
      ],
      "metadata": {
        "colab": {
          "base_uri": "https://localhost:8080/"
        },
        "id": "Ds3TXVUU1bTh",
        "outputId": "cf51105f-03e5-4235-a442-57a20e1452f2"
      },
      "execution_count": 27,
      "outputs": [
        {
          "output_type": "stream",
          "name": "stdout",
          "text": [
            "6\n",
            "10\n"
          ]
        }
      ]
    },
    {
      "cell_type": "code",
      "source": [
        "def getKali(myList):\n",
        "    kali = 1\n",
        "    for item in myList:\n",
        "        kali = kali*item\n",
        "    return kali\n",
        "\n",
        "getKali([1,2,3])\n",
        "getKali([1,2,3,4])\n",
        "\n",
        "print(getKali([1,2,3]))\n",
        "print(getKali([1,2,3,4]))"
      ],
      "metadata": {
        "colab": {
          "base_uri": "https://localhost:8080/"
        },
        "id": "w5BOrMer12ro",
        "outputId": "8b6c32f2-38eb-4da9-b099-94b876423a05"
      },
      "execution_count": 28,
      "outputs": [
        {
          "output_type": "stream",
          "name": "stdout",
          "text": [
            "6\n",
            "24\n"
          ]
        }
      ]
    },
    {
      "cell_type": "code",
      "source": [
        "def getSum(myList):\n",
        "    sum = 0\n",
        "    for row in myList:\n",
        "        for item in row:\n",
        "            sum += item\n",
        "    return sum\n",
        "\n",
        "getSum([[1,2,5],[3,4,7]])\n",
        "getSum([[1,2],[3,4]])\n",
        "getSum([[1,2,3],[4,5,6]])\n",
        "\n",
        "print(getSum([[1,2,5],[3,4,7]]))\n",
        "print(getSum([[1,2],[3,4]]))\n",
        "print(getSum([[1,2,3],[4,5,6]]))"
      ],
      "metadata": {
        "colab": {
          "base_uri": "https://localhost:8080/"
        },
        "id": "p5gwplEG2GbF",
        "outputId": "e21006e3-7382-4c35-dfd1-561eba7f05ed"
      },
      "execution_count": 29,
      "outputs": [
        {
          "output_type": "stream",
          "name": "stdout",
          "text": [
            "22\n",
            "10\n",
            "21\n"
          ]
        }
      ]
    },
    {
      "cell_type": "code",
      "source": [
        "def getKurang(list_a, list_b):\n",
        "    return [a - b for a, b in zip(list_a, list_b)]\n",
        "\n",
        "# Test\n",
        "print(getKurang([10, 8, 5], [3, 2, 1]))\n",
        "\n",
        "from fractions import Fraction\n",
        "\n",
        "def getBagiElement(list_a, list_b):\n",
        "    hasil = []\n",
        "    for a, b in zip(list_a, list_b):\n",
        "        if b == 0:\n",
        "            raise ZeroDivisionError(\"Tidak bisa bagi dengan nol.\")\n",
        "        hasil.append(Fraction(a, b))\n",
        "    return hasil\n",
        "\n",
        "# Test\n",
        "print(getBagiElement([10, 8, 9], [2, 4, 3]))  # → [5, 2, 3]"
      ],
      "metadata": {
        "colab": {
          "base_uri": "https://localhost:8080/"
        },
        "id": "U5unHn0U2col",
        "outputId": "da52b993-38fb-40b2-8170-957680f70f55"
      },
      "execution_count": 39,
      "outputs": [
        {
          "output_type": "stream",
          "name": "stdout",
          "text": [
            "[7, 6, 4]\n",
            "[Fraction(5, 1), Fraction(2, 1), Fraction(3, 1)]\n"
          ]
        }
      ]
    }
  ]
}