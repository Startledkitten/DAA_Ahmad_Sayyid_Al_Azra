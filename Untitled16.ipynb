{
  "nbformat": 4,
  "nbformat_minor": 0,
  "metadata": {
    "colab": {
      "provenance": [],
      "authorship_tag": "ABX9TyPfsKV08FVRdqLToGJeLlgi",
      "include_colab_link": true
    },
    "kernelspec": {
      "name": "python3",
      "display_name": "Python 3"
    },
    "language_info": {
      "name": "python"
    }
  },
  "cells": [
    {
      "cell_type": "markdown",
      "metadata": {
        "id": "view-in-github",
        "colab_type": "text"
      },
      "source": [
        "<a href=\"https://colab.research.google.com/github/Startledkitten/DAA_Kelompok5/blob/main/Untitled16.ipynb\" target=\"_parent\"><img src=\"https://colab.research.google.com/assets/colab-badge.svg\" alt=\"Open In Colab\"/></a>"
      ]
    },
    {
      "cell_type": "code",
      "execution_count": 3,
      "metadata": {
        "colab": {
          "base_uri": "https://localhost:8080/"
        },
        "id": "-GXytmfZnLQA",
        "outputId": "d7a7dee1-5b08-4c5d-bd03-fc5712419d8d"
      },
      "outputs": [
        {
          "output_type": "stream",
          "name": "stdout",
          "text": [
            "Kopi Teh\n"
          ]
        }
      ],
      "source": [
        "#swap function\n",
        "\n",
        "var1 = \"Teh\"\n",
        "var2 = \"Kopi\"\n",
        "var1,var2 = var2,var1\n",
        "\n",
        "print(var1,var2)"
      ]
    },
    {
      "cell_type": "code",
      "source": [
        "#swap function 2\n",
        "\n",
        "var1 = \"Teh\"\n",
        "var2 = \"Kopi\"\n",
        "var3 = \"Susu\"\n",
        "var1,var2,var3 = var3,var2,var1\n",
        "\n",
        "print(var1,var2,var3)"
      ],
      "metadata": {
        "colab": {
          "base_uri": "https://localhost:8080/"
        },
        "id": "RBIlfK-Oo2o8",
        "outputId": "50f93946-78b3-4e6f-81cf-d7d54c625ff1"
      },
      "execution_count": 5,
      "outputs": [
        {
          "output_type": "stream",
          "name": "stdout",
          "text": [
            "Susu Kopi Teh\n"
          ]
        }
      ]
    },
    {
      "cell_type": "code",
      "source": [
        "# =========================\n",
        "# LATIHAN ALGORITMA SORTING & SEARCHING\n",
        "# =========================\n",
        "\n",
        "# 1. Bubble Sort\n",
        "def bubble_sort(arr):\n",
        "    n = len(arr)\n",
        "    for i in range(n):\n",
        "        for j in range(0, n - i - 1):\n",
        "            if arr[j] > arr[j + 1]:\n",
        "                arr[j], arr[j + 1] = arr[j + 1], arr[j]\n",
        "    return arr\n",
        "\n",
        "# 2. Insertion Sort\n",
        "def insertion_sort(arr):\n",
        "    for i in range(1, len(arr)):\n",
        "        key = arr[i]\n",
        "        j = i - 1\n",
        "        while j >= 0 and key < arr[j]:\n",
        "            arr[j + 1] = arr[j]\n",
        "            j -= 1\n",
        "        arr[j + 1] = key\n",
        "    return arr\n",
        "\n",
        "# 3. Selection Sort\n",
        "def selection_sort(arr):\n",
        "    for i in range(len(arr)):\n",
        "        min_idx = i\n",
        "        for j in range(i + 1, len(arr)):\n",
        "            if arr[j] < arr[min_idx]:\n",
        "                min_idx = j\n",
        "        arr[i], arr[min_idx] = arr[min_idx], arr[i]\n",
        "    return arr\n",
        "\n",
        "# 4. Linear Search\n",
        "def linear_search(arr, target):\n",
        "    for i in range(len(arr)):\n",
        "        if arr[i] == target:\n",
        "            return f\"Karakter '{target}' ditemukan pada indeks {i}\"\n",
        "    return f\"Karakter '{target}' tidak ditemukan\"\n",
        "\n",
        "# 5. Binary Search (data harus terurut)\n",
        "def binary_search(arr, target):\n",
        "    arr_sorted = sorted(arr)\n",
        "    low, high = 0, len(arr_sorted) - 1\n",
        "    while low <= high:\n",
        "        mid = (low + high) // 2\n",
        "        if arr_sorted[mid] == target:\n",
        "            return f\"Karakter '{target}' ditemukan pada indeks {mid} (setelah diurutkan)\"\n",
        "        elif arr_sorted[mid] < target:\n",
        "            low = mid + 1\n",
        "        else:\n",
        "            high = mid - 1\n",
        "    return f\"Karakter '{target}' tidak ditemukan\"\n",
        "\n",
        "# 6. Interpolation Search (data harus terurut)\n",
        "def interpolation_search(arr, target):\n",
        "    arr_sorted = sorted(arr)\n",
        "    low, high = 0, len(arr_sorted) - 1\n",
        "    while low <= high and target >= arr_sorted[low] and target <= arr_sorted[high]:\n",
        "        if low == high:\n",
        "            if arr_sorted[low] == target:\n",
        "                return f\"Karakter '{target}' ditemukan pada indeks {low} (setelah diurutkan)\"\n",
        "            return f\"Karakter '{target}' tidak ditemukan\"\n",
        "        pos = low + int(((float(high - low) / (ord(arr_sorted[high]) - ord(arr_sorted[low]))) * (ord(target) - ord(arr_sorted[low]))))\n",
        "        if arr_sorted[pos] == target:\n",
        "            return f\"Karakter '{target}' ditemukan pada indeks {pos} (setelah diurutkan)\"\n",
        "        if arr_sorted[pos] < target:\n",
        "            low = pos + 1\n",
        "        else:\n",
        "            high = pos - 1\n",
        "    return f\"Karakter '{target}' tidak ditemukan\"\n",
        "\n",
        "# =========================\n",
        "# TESTING SEMUA FUNGSI\n",
        "# =========================\n",
        "\n",
        "if __name__ == \"__main__\":\n",
        "    print(\"=== Bubble Sort ===\")\n",
        "    data = [100, 20, 60, 90, 40, 30, 10]\n",
        "    print(\"Sebelum:\", data)\n",
        "    print(\"Sesudah:\", bubble_sort(data.copy()))\n",
        "\n",
        "    print(\"\\n=== Insertion Sort ===\")\n",
        "    data = [89, 12, 57, 16, 25, 11, 75]\n",
        "    print(\"Sebelum:\", data)\n",
        "    print(\"Sesudah:\", insertion_sort(data.copy()))\n",
        "\n",
        "    print(\"\\n=== Selection Sort ===\")\n",
        "    data = [89, 12, 57, 16, 25]\n",
        "    print(\"Sebelum:\", data)\n",
        "    print(\"Sesudah:\", selection_sort(data.copy()))\n",
        "\n",
        "    print(\"\\n=== Linear Search ===\")\n",
        "    data = ['y', 'u', 'i', 'w', 'o', 'a', 'q', 'u', 'j', 'p']\n",
        "    print(linear_search(data, 'a'))\n",
        "\n",
        "    print(\"\\n=== Binary Search ===\")\n",
        "    print(binary_search(data, 'a'))\n",
        "\n",
        "    print(\"\\n=== Interpolation Search ===\")\n",
        "    print(interpolation_search(data, 'u'))"
      ],
      "metadata": {
        "colab": {
          "base_uri": "https://localhost:8080/"
        },
        "id": "Fmx8FU2ZzigN",
        "outputId": "46495375-e49d-4d8a-d63d-7a1017adcfbf"
      },
      "execution_count": 6,
      "outputs": [
        {
          "output_type": "stream",
          "name": "stdout",
          "text": [
            "=== Bubble Sort ===\n",
            "Sebelum: [100, 20, 60, 90, 40, 30, 10]\n",
            "Sesudah: [10, 20, 30, 40, 60, 90, 100]\n",
            "\n",
            "=== Insertion Sort ===\n",
            "Sebelum: [89, 12, 57, 16, 25, 11, 75]\n",
            "Sesudah: [11, 12, 16, 25, 57, 75, 89]\n",
            "\n",
            "=== Selection Sort ===\n",
            "Sebelum: [89, 12, 57, 16, 25]\n",
            "Sesudah: [12, 16, 25, 57, 89]\n",
            "\n",
            "=== Linear Search ===\n",
            "Karakter 'a' ditemukan pada indeks 5\n",
            "\n",
            "=== Binary Search ===\n",
            "Karakter 'a' ditemukan pada indeks 0 (setelah diurutkan)\n",
            "\n",
            "=== Interpolation Search ===\n",
            "Karakter 'u' ditemukan pada indeks 7 (setelah diurutkan)\n"
          ]
        }
      ]
    }
  ]
}