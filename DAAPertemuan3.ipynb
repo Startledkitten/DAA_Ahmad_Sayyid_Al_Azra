{
  "nbformat": 4,
  "nbformat_minor": 0,
  "metadata": {
    "colab": {
      "provenance": [],
      "authorship_tag": "ABX9TyNC47Z4uCgBpUXtB56C9hQA",
      "include_colab_link": true
    },
    "kernelspec": {
      "name": "python3",
      "display_name": "Python 3"
    },
    "language_info": {
      "name": "python"
    }
  },
  "cells": [
    {
      "cell_type": "markdown",
      "metadata": {
        "id": "view-in-github",
        "colab_type": "text"
      },
      "source": [
        "<a href=\"https://colab.research.google.com/github/Startledkitten/DAA_Kelompok5/blob/main/DAAPertemuan3.ipynb\" target=\"_parent\"><img src=\"https://colab.research.google.com/assets/colab-badge.svg\" alt=\"Open In Colab\"/></a>"
      ]
    },
    {
      "cell_type": "code",
      "execution_count": 1,
      "metadata": {
        "colab": {
          "base_uri": "https://localhost:8080/"
        },
        "id": "eoxT4eN5n4BQ",
        "outputId": "eae2abb9-4ff4-492b-a3b3-b529bc65a594"
      },
      "outputs": [
        {
          "output_type": "stream",
          "name": "stdout",
          "text": [
            "['John', 33, 'Toronto', True]\n"
          ]
        }
      ],
      "source": [
        "alist = [\"John\", 33, \"Toronto\", True]\n",
        "print(alist)"
      ]
    },
    {
      "cell_type": "code",
      "source": [
        "from datetime import date\n",
        "tgl_v1 = date.today()\n",
        "print(tgl_v1)\n",
        "\n",
        "import datetime as vDate\n",
        "hari = vDate.date.day\n",
        "\n",
        "tanggal = vDate.date.today()\n",
        "print(hari)\n",
        "print(tanggal)\n",
        "\n",
        "mahasiswa = [\"Renee\", \"2024071006\", \"Informatika\", \"DAA\", tanggal, \"Universitas Pembangunan Jaya\"]\n",
        "print(mahasiswa)"
      ],
      "metadata": {
        "colab": {
          "base_uri": "https://localhost:8080/"
        },
        "id": "2kcif-ozpuL0",
        "outputId": "0437b0c6-2466-45fd-fc02-8ec9f3a4d8f2"
      },
      "execution_count": 28,
      "outputs": [
        {
          "output_type": "stream",
          "name": "stdout",
          "text": [
            "2025-09-15\n",
            "<attribute 'day' of 'datetime.date' objects>\n",
            "2025-09-15\n",
            "['Renee', '2024071006', 'Informatika', 'DAA', datetime.date(2025, 9, 15), 'Universitas Pembangunan Jaya']\n"
          ]
        }
      ]
    },
    {
      "cell_type": "code",
      "source": [
        "from datetime import date\n",
        "tgl_v1 = date.today()\n",
        "print(tgl_v1)\n",
        "\n",
        "import datetime as vDate\n",
        "hari = vDate.date.day\n",
        "\n",
        "tanggal = vDate.date.today()\n",
        "print(hari)\n",
        "print(tanggal)\n",
        "\n",
        "mahasiswa = [\"Renee\", \"2024071006\", \"Informatika\", \"DAA\", f\"{tanggal.day}-{tanggal.month}-{tanggal.year}\", \"Universitas Pembangunan Jaya\"]\n",
        "print(mahasiswa)\n",
        "\n",
        "print(\"NIM:\", mahasiswa[1])"
      ],
      "metadata": {
        "colab": {
          "base_uri": "https://localhost:8080/"
        },
        "id": "QtHcgZQnsQuD",
        "outputId": "68b46a30-1177-477b-c7cc-59e05219f9c5"
      },
      "execution_count": 3,
      "outputs": [
        {
          "output_type": "stream",
          "name": "stdout",
          "text": [
            "2025-09-15\n",
            "<attribute 'day' of 'datetime.date' objects>\n",
            "2025-09-15\n",
            "['Ranti', '2024072001', 'Informatika', 'DAA', '15-9-2025', 'Universitas Pembangunan Jaya']\n"
          ]
        }
      ]
    },
    {
      "cell_type": "code",
      "source": [
        "print(\"NIM \", mahasiswa[1])\n",
        "print(\"Kampus \", mahasiswa[5])"
      ],
      "metadata": {
        "colab": {
          "base_uri": "https://localhost:8080/"
        },
        "id": "o0HSt2sztbZ_",
        "outputId": "59046f6f-8d82-4aba-f0f0-6d3db8e37267"
      },
      "execution_count": 29,
      "outputs": [
        {
          "output_type": "stream",
          "name": "stdout",
          "text": [
            "NIM  2024071006\n",
            "Kampus  Universitas Pembangunan Jaya\n"
          ]
        }
      ]
    },
    {
      "cell_type": "code",
      "source": [
        "print(\"NIM \", mahasiswa[1:2])"
      ],
      "metadata": {
        "colab": {
          "base_uri": "https://localhost:8080/"
        },
        "id": "5dUusJ3xtfgj",
        "outputId": "e0235365-69b6-4820-c85a-8358e6c0f2ca"
      },
      "execution_count": 22,
      "outputs": [
        {
          "output_type": "stream",
          "name": "stdout",
          "text": [
            "NIM  ['2024072001']\n"
          ]
        }
      ]
    },
    {
      "cell_type": "code",
      "source": [
        "print(\"Prodi \", mahasiswa[2:3])"
      ],
      "metadata": {
        "colab": {
          "base_uri": "https://localhost:8080/"
        },
        "id": "tOSJBrwstkFe",
        "outputId": "2e419646-28d1-4a47-86b4-3b00db4178d9"
      },
      "execution_count": 6,
      "outputs": [
        {
          "output_type": "stream",
          "name": "stdout",
          "text": [
            "Prodi  ['Informatika']\n"
          ]
        }
      ]
    },
    {
      "cell_type": "code",
      "source": [
        "print(\"Prodi \", mahasiswa[1:3])"
      ],
      "metadata": {
        "colab": {
          "base_uri": "https://localhost:8080/"
        },
        "id": "4Gatuxqntx1y",
        "outputId": "b276c581-47af-42c3-e16d-a2a6e8729e7e"
      },
      "execution_count": 7,
      "outputs": [
        {
          "output_type": "stream",
          "name": "stdout",
          "text": [
            "Prodi  ['2024072001', 'Informatika']\n"
          ]
        }
      ]
    },
    {
      "cell_type": "code",
      "source": [
        "print(\"Prodi \", mahasiswa[2:22])"
      ],
      "metadata": {
        "colab": {
          "base_uri": "https://localhost:8080/"
        },
        "id": "I7e9M6z2uzlh",
        "outputId": "34dc6620-89de-4a5e-bf94-89de0f6ed084"
      },
      "execution_count": 23,
      "outputs": [
        {
          "output_type": "stream",
          "name": "stdout",
          "text": [
            "Prodi  ['Informatika', 'DAA', '15-9-2025', 'Universitas Pembangunan Jaya']\n"
          ]
        }
      ]
    },
    {
      "cell_type": "code",
      "source": [
        "bin_colors = ['Red', 'Green', 'Blue', 'Yellow']\n",
        "print(bin_colors[0] + \" square\")\n",
        "print(bin_colors[1] + \" square\")\n",
        "print(bin_colors[2] + \" square\")\n",
        "print(bin_colors[3] + \" square\")\n",
        "\n",
        "for aColor in bin_colors:\n",
        "  print(aColor)"
      ],
      "metadata": {
        "colab": {
          "base_uri": "https://localhost:8080/"
        },
        "id": "MvnterFJwo93",
        "outputId": "38d7c84b-6b04-4efa-ac61-21454e5200d3"
      },
      "execution_count": 15,
      "outputs": [
        {
          "output_type": "stream",
          "name": "stdout",
          "text": [
            "Red square\n",
            "Green square\n",
            "Blue square\n",
            "Yellow square\n",
            "Red\n",
            "Green\n",
            "Blue\n",
            "Yellow\n"
          ]
        }
      ]
    },
    {
      "cell_type": "code",
      "source": [
        "upj = (\"universitas\",\"pembangunan\",\"jaya\")\n",
        "print (upj)"
      ],
      "metadata": {
        "colab": {
          "base_uri": "https://localhost:8080/"
        },
        "id": "Qh9UlU-iw94U",
        "outputId": "5d7e546c-95cb-4315-c16a-d56cd29b0aa4"
      },
      "execution_count": 16,
      "outputs": [
        {
          "output_type": "stream",
          "name": "stdout",
          "text": [
            "('universitas', 'pembangunan', 'jaya')\n"
          ]
        }
      ]
    },
    {
      "cell_type": "code",
      "source": [
        "nested_tuple = (100, (200, 400, 600), 300, (400, 800))\n",
        "print (nested_tuple)"
      ],
      "metadata": {
        "colab": {
          "base_uri": "https://localhost:8080/"
        },
        "id": "MYL20Z2nxlOK",
        "outputId": "706bedba-248b-4101-fa79-0d254ed497a5"
      },
      "execution_count": 17,
      "outputs": [
        {
          "output_type": "stream",
          "name": "stdout",
          "text": [
            "(100, (200, 400, 600), 300, (400, 800))\n"
          ]
        }
      ]
    },
    {
      "cell_type": "code",
      "source": [],
      "metadata": {
        "id": "Jw7jPqaCyOtJ"
      },
      "execution_count": null,
      "outputs": []
    },
    {
      "cell_type": "code",
      "metadata": {
        "colab": {
          "base_uri": "https://localhost:8080/"
        },
        "id": "d8a3ef6a",
        "outputId": "7b130765-f8f4-4ab8-ec55-d9fdc75c1d19"
      },
      "source": [
        "for item in mahasiswa:\n",
        "  print(\"UPJ\", item)"
      ],
      "execution_count": 30,
      "outputs": [
        {
          "output_type": "stream",
          "name": "stdout",
          "text": [
            "UPJ Renee\n",
            "UPJ 2024071006\n",
            "UPJ Informatika\n",
            "UPJ DAA\n",
            "UPJ 2025-09-15\n",
            "UPJ Universitas Pembangunan Jaya\n"
          ]
        }
      ]
    },
    {
      "cell_type": "code",
      "metadata": {
        "colab": {
          "base_uri": "https://localhost:8080/"
        },
        "id": "01936ca4",
        "outputId": "9a3ef4f1-1406-49de-aa18-86c3b7125660"
      },
      "source": [
        "data_mahasiswa = {\n",
        "    \"Nama\": \"Renee Akbar N.S\",\n",
        "    \"NIM\": \"2024071006\",\n",
        "    \"Prodi\": \"Informatika\",\n",
        "    \"Universitas\": \"UPJ\"\n",
        "}\n",
        "print(data_mahasiswa)"
      ],
      "execution_count": 36,
      "outputs": [
        {
          "output_type": "stream",
          "name": "stdout",
          "text": [
            "{'Nama': 'Renee Akbar N.S', 'NIM': '2024071006', 'Prodi': 'Informatika', 'Universitas': 'UPJ'}\n"
          ]
        }
      ]
    },
    {
      "cell_type": "code",
      "source": [],
      "metadata": {
        "id": "SKcmaYMv9DJb"
      },
      "execution_count": null,
      "outputs": []
    }
  ]
}